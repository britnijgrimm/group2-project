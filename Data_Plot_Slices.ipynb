{
 "cells": [
  {
   "cell_type": "code",
   "execution_count": 2,
   "id": "adjusted-senegal",
   "metadata": {},
   "outputs": [],
   "source": [
    "import numpy as np\n",
    "import pandas as pd\n",
    "import seaborn as sns\n",
    "import matplotlib.pyplot as plt\n",
    "\n",
    "%matplotlib inline"
   ]
  },
  {
   "cell_type": "code",
   "execution_count": 3,
   "id": "parliamentary-benchmark",
   "metadata": {},
   "outputs": [
    {
     "data": {
      "text/html": [
       "<div>\n",
       "<style scoped>\n",
       "    .dataframe tbody tr th:only-of-type {\n",
       "        vertical-align: middle;\n",
       "    }\n",
       "\n",
       "    .dataframe tbody tr th {\n",
       "        vertical-align: top;\n",
       "    }\n",
       "\n",
       "    .dataframe thead th {\n",
       "        text-align: right;\n",
       "    }\n",
       "</style>\n",
       "<table border=\"1\" class=\"dataframe\">\n",
       "  <thead>\n",
       "    <tr style=\"text-align: right;\">\n",
       "      <th></th>\n",
       "      <th>AppointmentID</th>\n",
       "      <th>Gender</th>\n",
       "      <th>ScheduledDay</th>\n",
       "      <th>AppointmentDay</th>\n",
       "      <th>Age</th>\n",
       "      <th>Neighbourhood</th>\n",
       "      <th>Scholarship</th>\n",
       "      <th>Hipertension</th>\n",
       "      <th>Diabetes</th>\n",
       "      <th>Alcoholism</th>\n",
       "      <th>Handcap</th>\n",
       "      <th>SMS_received</th>\n",
       "      <th>No-show</th>\n",
       "    </tr>\n",
       "    <tr>\n",
       "      <th>PatientId</th>\n",
       "      <th></th>\n",
       "      <th></th>\n",
       "      <th></th>\n",
       "      <th></th>\n",
       "      <th></th>\n",
       "      <th></th>\n",
       "      <th></th>\n",
       "      <th></th>\n",
       "      <th></th>\n",
       "      <th></th>\n",
       "      <th></th>\n",
       "      <th></th>\n",
       "      <th></th>\n",
       "    </tr>\n",
       "  </thead>\n",
       "  <tbody>\n",
       "    <tr>\n",
       "      <th>2.987250e+13</th>\n",
       "      <td>5642903</td>\n",
       "      <td>F</td>\n",
       "      <td>2016-04-29T18:38:08Z</td>\n",
       "      <td>2016-04-29T00:00:00Z</td>\n",
       "      <td>62</td>\n",
       "      <td>JARDIM DA PENHA</td>\n",
       "      <td>0</td>\n",
       "      <td>1</td>\n",
       "      <td>0</td>\n",
       "      <td>0</td>\n",
       "      <td>0</td>\n",
       "      <td>0</td>\n",
       "      <td>No</td>\n",
       "    </tr>\n",
       "    <tr>\n",
       "      <th>5.589978e+14</th>\n",
       "      <td>5642503</td>\n",
       "      <td>M</td>\n",
       "      <td>2016-04-29T16:08:27Z</td>\n",
       "      <td>2016-04-29T00:00:00Z</td>\n",
       "      <td>56</td>\n",
       "      <td>JARDIM DA PENHA</td>\n",
       "      <td>0</td>\n",
       "      <td>0</td>\n",
       "      <td>0</td>\n",
       "      <td>0</td>\n",
       "      <td>0</td>\n",
       "      <td>0</td>\n",
       "      <td>No</td>\n",
       "    </tr>\n",
       "    <tr>\n",
       "      <th>4.262962e+12</th>\n",
       "      <td>5642549</td>\n",
       "      <td>F</td>\n",
       "      <td>2016-04-29T16:19:04Z</td>\n",
       "      <td>2016-04-29T00:00:00Z</td>\n",
       "      <td>62</td>\n",
       "      <td>MATA DA PRAIA</td>\n",
       "      <td>0</td>\n",
       "      <td>0</td>\n",
       "      <td>0</td>\n",
       "      <td>0</td>\n",
       "      <td>0</td>\n",
       "      <td>0</td>\n",
       "      <td>No</td>\n",
       "    </tr>\n",
       "    <tr>\n",
       "      <th>8.679512e+11</th>\n",
       "      <td>5642828</td>\n",
       "      <td>F</td>\n",
       "      <td>2016-04-29T17:29:31Z</td>\n",
       "      <td>2016-04-29T00:00:00Z</td>\n",
       "      <td>8</td>\n",
       "      <td>PONTAL DE CAMBURI</td>\n",
       "      <td>0</td>\n",
       "      <td>0</td>\n",
       "      <td>0</td>\n",
       "      <td>0</td>\n",
       "      <td>0</td>\n",
       "      <td>0</td>\n",
       "      <td>No</td>\n",
       "    </tr>\n",
       "    <tr>\n",
       "      <th>8.841186e+12</th>\n",
       "      <td>5642494</td>\n",
       "      <td>F</td>\n",
       "      <td>2016-04-29T16:07:23Z</td>\n",
       "      <td>2016-04-29T00:00:00Z</td>\n",
       "      <td>56</td>\n",
       "      <td>JARDIM DA PENHA</td>\n",
       "      <td>0</td>\n",
       "      <td>1</td>\n",
       "      <td>1</td>\n",
       "      <td>0</td>\n",
       "      <td>0</td>\n",
       "      <td>0</td>\n",
       "      <td>No</td>\n",
       "    </tr>\n",
       "    <tr>\n",
       "      <th>9.598513e+13</th>\n",
       "      <td>5626772</td>\n",
       "      <td>F</td>\n",
       "      <td>2016-04-27T08:36:51Z</td>\n",
       "      <td>2016-04-29T00:00:00Z</td>\n",
       "      <td>76</td>\n",
       "      <td>REPÚBLICA</td>\n",
       "      <td>0</td>\n",
       "      <td>1</td>\n",
       "      <td>0</td>\n",
       "      <td>0</td>\n",
       "      <td>0</td>\n",
       "      <td>0</td>\n",
       "      <td>No</td>\n",
       "    </tr>\n",
       "    <tr>\n",
       "      <th>7.336882e+14</th>\n",
       "      <td>5630279</td>\n",
       "      <td>F</td>\n",
       "      <td>2016-04-27T15:05:12Z</td>\n",
       "      <td>2016-04-29T00:00:00Z</td>\n",
       "      <td>23</td>\n",
       "      <td>GOIABEIRAS</td>\n",
       "      <td>0</td>\n",
       "      <td>0</td>\n",
       "      <td>0</td>\n",
       "      <td>0</td>\n",
       "      <td>0</td>\n",
       "      <td>0</td>\n",
       "      <td>Yes</td>\n",
       "    </tr>\n",
       "    <tr>\n",
       "      <th>3.449833e+12</th>\n",
       "      <td>5630575</td>\n",
       "      <td>F</td>\n",
       "      <td>2016-04-27T15:39:58Z</td>\n",
       "      <td>2016-04-29T00:00:00Z</td>\n",
       "      <td>39</td>\n",
       "      <td>GOIABEIRAS</td>\n",
       "      <td>0</td>\n",
       "      <td>0</td>\n",
       "      <td>0</td>\n",
       "      <td>0</td>\n",
       "      <td>0</td>\n",
       "      <td>0</td>\n",
       "      <td>Yes</td>\n",
       "    </tr>\n",
       "    <tr>\n",
       "      <th>5.639473e+13</th>\n",
       "      <td>5638447</td>\n",
       "      <td>F</td>\n",
       "      <td>2016-04-29T08:02:16Z</td>\n",
       "      <td>2016-04-29T00:00:00Z</td>\n",
       "      <td>21</td>\n",
       "      <td>ANDORINHAS</td>\n",
       "      <td>0</td>\n",
       "      <td>0</td>\n",
       "      <td>0</td>\n",
       "      <td>0</td>\n",
       "      <td>0</td>\n",
       "      <td>0</td>\n",
       "      <td>No</td>\n",
       "    </tr>\n",
       "    <tr>\n",
       "      <th>7.812456e+13</th>\n",
       "      <td>5629123</td>\n",
       "      <td>F</td>\n",
       "      <td>2016-04-27T12:48:25Z</td>\n",
       "      <td>2016-04-29T00:00:00Z</td>\n",
       "      <td>19</td>\n",
       "      <td>CONQUISTA</td>\n",
       "      <td>0</td>\n",
       "      <td>0</td>\n",
       "      <td>0</td>\n",
       "      <td>0</td>\n",
       "      <td>0</td>\n",
       "      <td>0</td>\n",
       "      <td>No</td>\n",
       "    </tr>\n",
       "  </tbody>\n",
       "</table>\n",
       "</div>"
      ],
      "text/plain": [
       "              AppointmentID Gender          ScheduledDay  \\\n",
       "PatientId                                                  \n",
       "2.987250e+13        5642903      F  2016-04-29T18:38:08Z   \n",
       "5.589978e+14        5642503      M  2016-04-29T16:08:27Z   \n",
       "4.262962e+12        5642549      F  2016-04-29T16:19:04Z   \n",
       "8.679512e+11        5642828      F  2016-04-29T17:29:31Z   \n",
       "8.841186e+12        5642494      F  2016-04-29T16:07:23Z   \n",
       "9.598513e+13        5626772      F  2016-04-27T08:36:51Z   \n",
       "7.336882e+14        5630279      F  2016-04-27T15:05:12Z   \n",
       "3.449833e+12        5630575      F  2016-04-27T15:39:58Z   \n",
       "5.639473e+13        5638447      F  2016-04-29T08:02:16Z   \n",
       "7.812456e+13        5629123      F  2016-04-27T12:48:25Z   \n",
       "\n",
       "                    AppointmentDay  Age      Neighbourhood  Scholarship  \\\n",
       "PatientId                                                                 \n",
       "2.987250e+13  2016-04-29T00:00:00Z   62    JARDIM DA PENHA            0   \n",
       "5.589978e+14  2016-04-29T00:00:00Z   56    JARDIM DA PENHA            0   \n",
       "4.262962e+12  2016-04-29T00:00:00Z   62      MATA DA PRAIA            0   \n",
       "8.679512e+11  2016-04-29T00:00:00Z    8  PONTAL DE CAMBURI            0   \n",
       "8.841186e+12  2016-04-29T00:00:00Z   56    JARDIM DA PENHA            0   \n",
       "9.598513e+13  2016-04-29T00:00:00Z   76          REPÚBLICA            0   \n",
       "7.336882e+14  2016-04-29T00:00:00Z   23         GOIABEIRAS            0   \n",
       "3.449833e+12  2016-04-29T00:00:00Z   39         GOIABEIRAS            0   \n",
       "5.639473e+13  2016-04-29T00:00:00Z   21         ANDORINHAS            0   \n",
       "7.812456e+13  2016-04-29T00:00:00Z   19          CONQUISTA            0   \n",
       "\n",
       "              Hipertension  Diabetes  Alcoholism  Handcap  SMS_received  \\\n",
       "PatientId                                                                 \n",
       "2.987250e+13             1         0           0        0             0   \n",
       "5.589978e+14             0         0           0        0             0   \n",
       "4.262962e+12             0         0           0        0             0   \n",
       "8.679512e+11             0         0           0        0             0   \n",
       "8.841186e+12             1         1           0        0             0   \n",
       "9.598513e+13             1         0           0        0             0   \n",
       "7.336882e+14             0         0           0        0             0   \n",
       "3.449833e+12             0         0           0        0             0   \n",
       "5.639473e+13             0         0           0        0             0   \n",
       "7.812456e+13             0         0           0        0             0   \n",
       "\n",
       "             No-show  \n",
       "PatientId             \n",
       "2.987250e+13      No  \n",
       "5.589978e+14      No  \n",
       "4.262962e+12      No  \n",
       "8.679512e+11      No  \n",
       "8.841186e+12      No  \n",
       "9.598513e+13      No  \n",
       "7.336882e+14     Yes  \n",
       "3.449833e+12     Yes  \n",
       "5.639473e+13      No  \n",
       "7.812456e+13      No  "
      ]
     },
     "execution_count": 3,
     "metadata": {},
     "output_type": "execute_result"
    }
   ],
   "source": [
    "# Load the medical appointment no show data\n",
    "file_path=\"noshowappointments.csv\"\n",
    "mans_df= pd.read_csv(file_path, index_col=0)\n",
    "mans_df.head(10)"
   ]
  },
  {
   "cell_type": "code",
   "execution_count": 4,
   "id": "mediterranean-plane",
   "metadata": {},
   "outputs": [
    {
     "data": {
      "text/plain": [
       "(110527, 13)"
      ]
     },
     "execution_count": 4,
     "metadata": {},
     "output_type": "execute_result"
    }
   ],
   "source": [
    "#df = pd.DataFrame(mans_df)\n",
    "mans_df.shape"
   ]
  },
  {
   "cell_type": "code",
   "execution_count": 5,
   "id": "durable-cemetery",
   "metadata": {},
   "outputs": [
    {
     "data": {
      "text/plain": [
       "Index(['AppointmentID', 'Gender', 'ScheduledDay', 'AppointmentDay', 'Age',\n",
       "       'Neighbourhood', 'Scholarship', 'Hipertension', 'Diabetes',\n",
       "       'Alcoholism', 'Handcap', 'SMS_received', 'No-show'],\n",
       "      dtype='object')"
      ]
     },
     "execution_count": 5,
     "metadata": {},
     "output_type": "execute_result"
    }
   ],
   "source": [
    "#Find columns and their names\n",
    "mans_df.columns"
   ]
  },
  {
   "cell_type": "code",
   "execution_count": 6,
   "id": "breathing-plymouth",
   "metadata": {},
   "outputs": [
    {
     "data": {
      "text/plain": [
       "AppointmentID      int64\n",
       "Gender            object\n",
       "ScheduledDay      object\n",
       "AppointmentDay    object\n",
       "Age                int64\n",
       "Neighbourhood     object\n",
       "Scholarship        int64\n",
       "Hipertension       int64\n",
       "Diabetes           int64\n",
       "Alcoholism         int64\n",
       "Handcap            int64\n",
       "SMS_received       int64\n",
       "No-show           object\n",
       "dtype: object"
      ]
     },
     "execution_count": 6,
     "metadata": {},
     "output_type": "execute_result"
    }
   ],
   "source": [
    "#Find data types on each column\n",
    "mans_df.dtypes"
   ]
  },
  {
   "cell_type": "code",
   "execution_count": 7,
   "id": "american-contact",
   "metadata": {},
   "outputs": [
    {
     "name": "stdout",
     "output_type": "stream",
     "text": [
      "Column AppointmentID has 0 null values\n",
      "Column Gender has 0 null values\n",
      "Column ScheduledDay has 0 null values\n",
      "Column AppointmentDay has 0 null values\n",
      "Column Age has 0 null values\n",
      "Column Neighbourhood has 0 null values\n",
      "Column Scholarship has 0 null values\n",
      "Column Hipertension has 0 null values\n",
      "Column Diabetes has 0 null values\n",
      "Column Alcoholism has 0 null values\n",
      "Column Handcap has 0 null values\n",
      "Column SMS_received has 0 null values\n",
      "Column No-show has 0 null values\n"
     ]
    }
   ],
   "source": [
    "for column in mans_df.columns:\n",
    "    print(f\"Column {column} has {mans_df[column].isnull().sum()} null values\")"
   ]
  },
  {
   "cell_type": "code",
   "execution_count": 8,
   "id": "fancy-preparation",
   "metadata": {},
   "outputs": [],
   "source": [
    "# Creating new column with just the date\n",
    "mans_df[\"ScheduledDay\"] = pd.to_datetime(mans_df.ScheduledDay)\n",
    "mans_df[\"AppointmentDay\"] = pd.to_datetime(mans_df.AppointmentDay)\n"
   ]
  },
  {
   "cell_type": "code",
   "execution_count": 9,
   "id": "active-nothing",
   "metadata": {},
   "outputs": [
    {
     "data": {
      "text/html": [
       "<div>\n",
       "<style scoped>\n",
       "    .dataframe tbody tr th:only-of-type {\n",
       "        vertical-align: middle;\n",
       "    }\n",
       "\n",
       "    .dataframe tbody tr th {\n",
       "        vertical-align: top;\n",
       "    }\n",
       "\n",
       "    .dataframe thead th {\n",
       "        text-align: right;\n",
       "    }\n",
       "</style>\n",
       "<table border=\"1\" class=\"dataframe\">\n",
       "  <thead>\n",
       "    <tr style=\"text-align: right;\">\n",
       "      <th></th>\n",
       "      <th>AppointmentID</th>\n",
       "      <th>Gender</th>\n",
       "      <th>ScheduledDay</th>\n",
       "      <th>AppointmentDay</th>\n",
       "      <th>Age</th>\n",
       "      <th>Neighbourhood</th>\n",
       "      <th>Scholarship</th>\n",
       "      <th>Hipertension</th>\n",
       "      <th>Diabetes</th>\n",
       "      <th>Alcoholism</th>\n",
       "      <th>Handcap</th>\n",
       "      <th>SMS_received</th>\n",
       "      <th>No-show</th>\n",
       "      <th>WeekDay</th>\n",
       "    </tr>\n",
       "    <tr>\n",
       "      <th>PatientId</th>\n",
       "      <th></th>\n",
       "      <th></th>\n",
       "      <th></th>\n",
       "      <th></th>\n",
       "      <th></th>\n",
       "      <th></th>\n",
       "      <th></th>\n",
       "      <th></th>\n",
       "      <th></th>\n",
       "      <th></th>\n",
       "      <th></th>\n",
       "      <th></th>\n",
       "      <th></th>\n",
       "      <th></th>\n",
       "    </tr>\n",
       "  </thead>\n",
       "  <tbody>\n",
       "    <tr>\n",
       "      <th>2.987250e+13</th>\n",
       "      <td>5642903</td>\n",
       "      <td>F</td>\n",
       "      <td>2016-04-29 18:38:08+00:00</td>\n",
       "      <td>2016-04-29 00:00:00+00:00</td>\n",
       "      <td>62</td>\n",
       "      <td>JARDIM DA PENHA</td>\n",
       "      <td>0</td>\n",
       "      <td>1</td>\n",
       "      <td>0</td>\n",
       "      <td>0</td>\n",
       "      <td>0</td>\n",
       "      <td>0</td>\n",
       "      <td>No</td>\n",
       "      <td>4</td>\n",
       "    </tr>\n",
       "    <tr>\n",
       "      <th>5.589978e+14</th>\n",
       "      <td>5642503</td>\n",
       "      <td>M</td>\n",
       "      <td>2016-04-29 16:08:27+00:00</td>\n",
       "      <td>2016-04-29 00:00:00+00:00</td>\n",
       "      <td>56</td>\n",
       "      <td>JARDIM DA PENHA</td>\n",
       "      <td>0</td>\n",
       "      <td>0</td>\n",
       "      <td>0</td>\n",
       "      <td>0</td>\n",
       "      <td>0</td>\n",
       "      <td>0</td>\n",
       "      <td>No</td>\n",
       "      <td>4</td>\n",
       "    </tr>\n",
       "    <tr>\n",
       "      <th>4.262962e+12</th>\n",
       "      <td>5642549</td>\n",
       "      <td>F</td>\n",
       "      <td>2016-04-29 16:19:04+00:00</td>\n",
       "      <td>2016-04-29 00:00:00+00:00</td>\n",
       "      <td>62</td>\n",
       "      <td>MATA DA PRAIA</td>\n",
       "      <td>0</td>\n",
       "      <td>0</td>\n",
       "      <td>0</td>\n",
       "      <td>0</td>\n",
       "      <td>0</td>\n",
       "      <td>0</td>\n",
       "      <td>No</td>\n",
       "      <td>4</td>\n",
       "    </tr>\n",
       "    <tr>\n",
       "      <th>8.679512e+11</th>\n",
       "      <td>5642828</td>\n",
       "      <td>F</td>\n",
       "      <td>2016-04-29 17:29:31+00:00</td>\n",
       "      <td>2016-04-29 00:00:00+00:00</td>\n",
       "      <td>8</td>\n",
       "      <td>PONTAL DE CAMBURI</td>\n",
       "      <td>0</td>\n",
       "      <td>0</td>\n",
       "      <td>0</td>\n",
       "      <td>0</td>\n",
       "      <td>0</td>\n",
       "      <td>0</td>\n",
       "      <td>No</td>\n",
       "      <td>4</td>\n",
       "    </tr>\n",
       "    <tr>\n",
       "      <th>8.841186e+12</th>\n",
       "      <td>5642494</td>\n",
       "      <td>F</td>\n",
       "      <td>2016-04-29 16:07:23+00:00</td>\n",
       "      <td>2016-04-29 00:00:00+00:00</td>\n",
       "      <td>56</td>\n",
       "      <td>JARDIM DA PENHA</td>\n",
       "      <td>0</td>\n",
       "      <td>1</td>\n",
       "      <td>1</td>\n",
       "      <td>0</td>\n",
       "      <td>0</td>\n",
       "      <td>0</td>\n",
       "      <td>No</td>\n",
       "      <td>4</td>\n",
       "    </tr>\n",
       "    <tr>\n",
       "      <th>...</th>\n",
       "      <td>...</td>\n",
       "      <td>...</td>\n",
       "      <td>...</td>\n",
       "      <td>...</td>\n",
       "      <td>...</td>\n",
       "      <td>...</td>\n",
       "      <td>...</td>\n",
       "      <td>...</td>\n",
       "      <td>...</td>\n",
       "      <td>...</td>\n",
       "      <td>...</td>\n",
       "      <td>...</td>\n",
       "      <td>...</td>\n",
       "      <td>...</td>\n",
       "    </tr>\n",
       "    <tr>\n",
       "      <th>2.572134e+12</th>\n",
       "      <td>5651768</td>\n",
       "      <td>F</td>\n",
       "      <td>2016-05-03 09:15:35+00:00</td>\n",
       "      <td>2016-06-07 00:00:00+00:00</td>\n",
       "      <td>56</td>\n",
       "      <td>MARIA ORTIZ</td>\n",
       "      <td>0</td>\n",
       "      <td>0</td>\n",
       "      <td>0</td>\n",
       "      <td>0</td>\n",
       "      <td>0</td>\n",
       "      <td>1</td>\n",
       "      <td>No</td>\n",
       "      <td>1</td>\n",
       "    </tr>\n",
       "    <tr>\n",
       "      <th>3.596266e+12</th>\n",
       "      <td>5650093</td>\n",
       "      <td>F</td>\n",
       "      <td>2016-05-03 07:27:33+00:00</td>\n",
       "      <td>2016-06-07 00:00:00+00:00</td>\n",
       "      <td>51</td>\n",
       "      <td>MARIA ORTIZ</td>\n",
       "      <td>0</td>\n",
       "      <td>0</td>\n",
       "      <td>0</td>\n",
       "      <td>0</td>\n",
       "      <td>0</td>\n",
       "      <td>1</td>\n",
       "      <td>No</td>\n",
       "      <td>1</td>\n",
       "    </tr>\n",
       "    <tr>\n",
       "      <th>1.557663e+13</th>\n",
       "      <td>5630692</td>\n",
       "      <td>F</td>\n",
       "      <td>2016-04-27 16:03:52+00:00</td>\n",
       "      <td>2016-06-07 00:00:00+00:00</td>\n",
       "      <td>21</td>\n",
       "      <td>MARIA ORTIZ</td>\n",
       "      <td>0</td>\n",
       "      <td>0</td>\n",
       "      <td>0</td>\n",
       "      <td>0</td>\n",
       "      <td>0</td>\n",
       "      <td>1</td>\n",
       "      <td>No</td>\n",
       "      <td>1</td>\n",
       "    </tr>\n",
       "    <tr>\n",
       "      <th>9.213493e+13</th>\n",
       "      <td>5630323</td>\n",
       "      <td>F</td>\n",
       "      <td>2016-04-27 15:09:23+00:00</td>\n",
       "      <td>2016-06-07 00:00:00+00:00</td>\n",
       "      <td>38</td>\n",
       "      <td>MARIA ORTIZ</td>\n",
       "      <td>0</td>\n",
       "      <td>0</td>\n",
       "      <td>0</td>\n",
       "      <td>0</td>\n",
       "      <td>0</td>\n",
       "      <td>1</td>\n",
       "      <td>No</td>\n",
       "      <td>1</td>\n",
       "    </tr>\n",
       "    <tr>\n",
       "      <th>3.775115e+14</th>\n",
       "      <td>5629448</td>\n",
       "      <td>F</td>\n",
       "      <td>2016-04-27 13:30:56+00:00</td>\n",
       "      <td>2016-06-07 00:00:00+00:00</td>\n",
       "      <td>54</td>\n",
       "      <td>MARIA ORTIZ</td>\n",
       "      <td>0</td>\n",
       "      <td>0</td>\n",
       "      <td>0</td>\n",
       "      <td>0</td>\n",
       "      <td>0</td>\n",
       "      <td>1</td>\n",
       "      <td>No</td>\n",
       "      <td>1</td>\n",
       "    </tr>\n",
       "  </tbody>\n",
       "</table>\n",
       "<p>110527 rows × 14 columns</p>\n",
       "</div>"
      ],
      "text/plain": [
       "              AppointmentID Gender              ScheduledDay  \\\n",
       "PatientId                                                      \n",
       "2.987250e+13        5642903      F 2016-04-29 18:38:08+00:00   \n",
       "5.589978e+14        5642503      M 2016-04-29 16:08:27+00:00   \n",
       "4.262962e+12        5642549      F 2016-04-29 16:19:04+00:00   \n",
       "8.679512e+11        5642828      F 2016-04-29 17:29:31+00:00   \n",
       "8.841186e+12        5642494      F 2016-04-29 16:07:23+00:00   \n",
       "...                     ...    ...                       ...   \n",
       "2.572134e+12        5651768      F 2016-05-03 09:15:35+00:00   \n",
       "3.596266e+12        5650093      F 2016-05-03 07:27:33+00:00   \n",
       "1.557663e+13        5630692      F 2016-04-27 16:03:52+00:00   \n",
       "9.213493e+13        5630323      F 2016-04-27 15:09:23+00:00   \n",
       "3.775115e+14        5629448      F 2016-04-27 13:30:56+00:00   \n",
       "\n",
       "                        AppointmentDay  Age      Neighbourhood  Scholarship  \\\n",
       "PatientId                                                                     \n",
       "2.987250e+13 2016-04-29 00:00:00+00:00   62    JARDIM DA PENHA            0   \n",
       "5.589978e+14 2016-04-29 00:00:00+00:00   56    JARDIM DA PENHA            0   \n",
       "4.262962e+12 2016-04-29 00:00:00+00:00   62      MATA DA PRAIA            0   \n",
       "8.679512e+11 2016-04-29 00:00:00+00:00    8  PONTAL DE CAMBURI            0   \n",
       "8.841186e+12 2016-04-29 00:00:00+00:00   56    JARDIM DA PENHA            0   \n",
       "...                                ...  ...                ...          ...   \n",
       "2.572134e+12 2016-06-07 00:00:00+00:00   56        MARIA ORTIZ            0   \n",
       "3.596266e+12 2016-06-07 00:00:00+00:00   51        MARIA ORTIZ            0   \n",
       "1.557663e+13 2016-06-07 00:00:00+00:00   21        MARIA ORTIZ            0   \n",
       "9.213493e+13 2016-06-07 00:00:00+00:00   38        MARIA ORTIZ            0   \n",
       "3.775115e+14 2016-06-07 00:00:00+00:00   54        MARIA ORTIZ            0   \n",
       "\n",
       "              Hipertension  Diabetes  Alcoholism  Handcap  SMS_received  \\\n",
       "PatientId                                                                 \n",
       "2.987250e+13             1         0           0        0             0   \n",
       "5.589978e+14             0         0           0        0             0   \n",
       "4.262962e+12             0         0           0        0             0   \n",
       "8.679512e+11             0         0           0        0             0   \n",
       "8.841186e+12             1         1           0        0             0   \n",
       "...                    ...       ...         ...      ...           ...   \n",
       "2.572134e+12             0         0           0        0             1   \n",
       "3.596266e+12             0         0           0        0             1   \n",
       "1.557663e+13             0         0           0        0             1   \n",
       "9.213493e+13             0         0           0        0             1   \n",
       "3.775115e+14             0         0           0        0             1   \n",
       "\n",
       "             No-show  WeekDay  \n",
       "PatientId                      \n",
       "2.987250e+13      No        4  \n",
       "5.589978e+14      No        4  \n",
       "4.262962e+12      No        4  \n",
       "8.679512e+11      No        4  \n",
       "8.841186e+12      No        4  \n",
       "...              ...      ...  \n",
       "2.572134e+12      No        1  \n",
       "3.596266e+12      No        1  \n",
       "1.557663e+13      No        1  \n",
       "9.213493e+13      No        1  \n",
       "3.775115e+14      No        1  \n",
       "\n",
       "[110527 rows x 14 columns]"
      ]
     },
     "execution_count": 9,
     "metadata": {},
     "output_type": "execute_result"
    }
   ],
   "source": [
    "#Appointment days by day name \n",
    "#WeekDay= mans_df[\"AppointmentDay\"].dt.day_name()\n",
    "#Appointment days by day number\n",
    "WeekDay=mans_df[\"AppointmentDay\"].dt.weekday\n",
    "mans_df[\"WeekDay\"]=WeekDay\n",
    "mans_df"
   ]
  },
  {
   "cell_type": "code",
   "execution_count": 10,
   "id": "driving-adoption",
   "metadata": {},
   "outputs": [
    {
     "data": {
      "text/plain": [
       "PatientId\n",
       "2.987250e+13     0\n",
       "5.589978e+14     0\n",
       "4.262962e+12     0\n",
       "8.679512e+11     0\n",
       "8.841186e+12     0\n",
       "                ..\n",
       "2.572134e+12    35\n",
       "3.596266e+12    35\n",
       "1.557663e+13    41\n",
       "9.213493e+13    41\n",
       "3.775115e+14    41\n",
       "Length: 110527, dtype: int64"
      ]
     },
     "execution_count": 10,
     "metadata": {},
     "output_type": "execute_result"
    }
   ],
   "source": [
    "time_delta=mans_df.AppointmentDay.dt.dayofyear-mans_df.ScheduledDay.dt.dayofyear\n",
    "time_delta"
   ]
  },
  {
   "cell_type": "code",
   "execution_count": 11,
   "id": "continuing-ideal",
   "metadata": {},
   "outputs": [
    {
     "data": {
      "text/html": [
       "<div>\n",
       "<style scoped>\n",
       "    .dataframe tbody tr th:only-of-type {\n",
       "        vertical-align: middle;\n",
       "    }\n",
       "\n",
       "    .dataframe tbody tr th {\n",
       "        vertical-align: top;\n",
       "    }\n",
       "\n",
       "    .dataframe thead th {\n",
       "        text-align: right;\n",
       "    }\n",
       "</style>\n",
       "<table border=\"1\" class=\"dataframe\">\n",
       "  <thead>\n",
       "    <tr style=\"text-align: right;\">\n",
       "      <th></th>\n",
       "      <th>AppointmentID</th>\n",
       "      <th>Gender</th>\n",
       "      <th>ScheduledDay</th>\n",
       "      <th>AppointmentDay</th>\n",
       "      <th>Age</th>\n",
       "      <th>Neighbourhood</th>\n",
       "      <th>Scholarship</th>\n",
       "      <th>Hipertension</th>\n",
       "      <th>Diabetes</th>\n",
       "      <th>Alcoholism</th>\n",
       "      <th>Handcap</th>\n",
       "      <th>SMS_received</th>\n",
       "      <th>No-show</th>\n",
       "      <th>WeekDay</th>\n",
       "      <th>TimeDelta</th>\n",
       "    </tr>\n",
       "    <tr>\n",
       "      <th>PatientId</th>\n",
       "      <th></th>\n",
       "      <th></th>\n",
       "      <th></th>\n",
       "      <th></th>\n",
       "      <th></th>\n",
       "      <th></th>\n",
       "      <th></th>\n",
       "      <th></th>\n",
       "      <th></th>\n",
       "      <th></th>\n",
       "      <th></th>\n",
       "      <th></th>\n",
       "      <th></th>\n",
       "      <th></th>\n",
       "      <th></th>\n",
       "    </tr>\n",
       "  </thead>\n",
       "  <tbody>\n",
       "    <tr>\n",
       "      <th>2.987250e+13</th>\n",
       "      <td>5642903</td>\n",
       "      <td>F</td>\n",
       "      <td>2016-04-29</td>\n",
       "      <td>2016-04-29</td>\n",
       "      <td>62</td>\n",
       "      <td>JARDIM DA PENHA</td>\n",
       "      <td>0</td>\n",
       "      <td>1</td>\n",
       "      <td>0</td>\n",
       "      <td>0</td>\n",
       "      <td>0</td>\n",
       "      <td>0</td>\n",
       "      <td>No</td>\n",
       "      <td>4</td>\n",
       "      <td>0</td>\n",
       "    </tr>\n",
       "    <tr>\n",
       "      <th>5.589978e+14</th>\n",
       "      <td>5642503</td>\n",
       "      <td>M</td>\n",
       "      <td>2016-04-29</td>\n",
       "      <td>2016-04-29</td>\n",
       "      <td>56</td>\n",
       "      <td>JARDIM DA PENHA</td>\n",
       "      <td>0</td>\n",
       "      <td>0</td>\n",
       "      <td>0</td>\n",
       "      <td>0</td>\n",
       "      <td>0</td>\n",
       "      <td>0</td>\n",
       "      <td>No</td>\n",
       "      <td>4</td>\n",
       "      <td>0</td>\n",
       "    </tr>\n",
       "    <tr>\n",
       "      <th>4.262962e+12</th>\n",
       "      <td>5642549</td>\n",
       "      <td>F</td>\n",
       "      <td>2016-04-29</td>\n",
       "      <td>2016-04-29</td>\n",
       "      <td>62</td>\n",
       "      <td>MATA DA PRAIA</td>\n",
       "      <td>0</td>\n",
       "      <td>0</td>\n",
       "      <td>0</td>\n",
       "      <td>0</td>\n",
       "      <td>0</td>\n",
       "      <td>0</td>\n",
       "      <td>No</td>\n",
       "      <td>4</td>\n",
       "      <td>0</td>\n",
       "    </tr>\n",
       "    <tr>\n",
       "      <th>8.679512e+11</th>\n",
       "      <td>5642828</td>\n",
       "      <td>F</td>\n",
       "      <td>2016-04-29</td>\n",
       "      <td>2016-04-29</td>\n",
       "      <td>8</td>\n",
       "      <td>PONTAL DE CAMBURI</td>\n",
       "      <td>0</td>\n",
       "      <td>0</td>\n",
       "      <td>0</td>\n",
       "      <td>0</td>\n",
       "      <td>0</td>\n",
       "      <td>0</td>\n",
       "      <td>No</td>\n",
       "      <td>4</td>\n",
       "      <td>0</td>\n",
       "    </tr>\n",
       "    <tr>\n",
       "      <th>8.841186e+12</th>\n",
       "      <td>5642494</td>\n",
       "      <td>F</td>\n",
       "      <td>2016-04-29</td>\n",
       "      <td>2016-04-29</td>\n",
       "      <td>56</td>\n",
       "      <td>JARDIM DA PENHA</td>\n",
       "      <td>0</td>\n",
       "      <td>1</td>\n",
       "      <td>1</td>\n",
       "      <td>0</td>\n",
       "      <td>0</td>\n",
       "      <td>0</td>\n",
       "      <td>No</td>\n",
       "      <td>4</td>\n",
       "      <td>0</td>\n",
       "    </tr>\n",
       "  </tbody>\n",
       "</table>\n",
       "</div>"
      ],
      "text/plain": [
       "              AppointmentID Gender ScheduledDay AppointmentDay  Age  \\\n",
       "PatientId                                                             \n",
       "2.987250e+13        5642903      F   2016-04-29     2016-04-29   62   \n",
       "5.589978e+14        5642503      M   2016-04-29     2016-04-29   56   \n",
       "4.262962e+12        5642549      F   2016-04-29     2016-04-29   62   \n",
       "8.679512e+11        5642828      F   2016-04-29     2016-04-29    8   \n",
       "8.841186e+12        5642494      F   2016-04-29     2016-04-29   56   \n",
       "\n",
       "                  Neighbourhood  Scholarship  Hipertension  Diabetes  \\\n",
       "PatientId                                                              \n",
       "2.987250e+13    JARDIM DA PENHA            0             1         0   \n",
       "5.589978e+14    JARDIM DA PENHA            0             0         0   \n",
       "4.262962e+12      MATA DA PRAIA            0             0         0   \n",
       "8.679512e+11  PONTAL DE CAMBURI            0             0         0   \n",
       "8.841186e+12    JARDIM DA PENHA            0             1         1   \n",
       "\n",
       "              Alcoholism  Handcap  SMS_received No-show  WeekDay  TimeDelta  \n",
       "PatientId                                                                    \n",
       "2.987250e+13           0        0             0      No        4          0  \n",
       "5.589978e+14           0        0             0      No        4          0  \n",
       "4.262962e+12           0        0             0      No        4          0  \n",
       "8.679512e+11           0        0             0      No        4          0  \n",
       "8.841186e+12           0        0             0      No        4          0  "
      ]
     },
     "execution_count": 11,
     "metadata": {},
     "output_type": "execute_result"
    }
   ],
   "source": [
    "mans_df[\"TimeDelta\"]=time_delta\n",
    "mans_df[\"ScheduledDay\"] = mans_df[\"ScheduledDay\"].dt.date\n",
    "mans_df[\"AppointmentDay\"] = mans_df[\"AppointmentDay\"].dt.date\n",
    "mans_df.head()"
   ]
  },
  {
   "cell_type": "code",
   "execution_count": 12,
   "id": "moved-health",
   "metadata": {},
   "outputs": [
    {
     "data": {
      "text/plain": [
       "AppointmentID      int64\n",
       "Gender            object\n",
       "ScheduledDay      object\n",
       "AppointmentDay    object\n",
       "Age                int64\n",
       "Neighbourhood     object\n",
       "Scholarship        int64\n",
       "Hipertension       int64\n",
       "Diabetes           int64\n",
       "Alcoholism         int64\n",
       "Handcap            int64\n",
       "SMS_received       int64\n",
       "No-show           object\n",
       "WeekDay            int64\n",
       "TimeDelta          int64\n",
       "dtype: object"
      ]
     },
     "execution_count": 12,
     "metadata": {},
     "output_type": "execute_result"
    }
   ],
   "source": [
    "mans_df.dtypes"
   ]
  },
  {
   "cell_type": "code",
   "execution_count": 13,
   "id": "binding-filename",
   "metadata": {},
   "outputs": [],
   "source": [
    "#Rename the columns which have incorrect spelling mistakes - this will helps us create columns in easy to understand way\n",
    "mans_df.rename(columns = {'Hipertension' : 'Hypertension', 'Handcap':'Handicap', 'No-show':'Show', 'SMS_received':'Number of SMS Reminders'}, inplace = True)"
   ]
  },
  {
   "cell_type": "code",
   "execution_count": 14,
   "id": "matched-trigger",
   "metadata": {},
   "outputs": [],
   "source": [
    "# Drop the record of Age < 0.\n",
    "mans_df.drop(index=mans_df[mans_df['Age'] < 0].index[0], inplace=True)"
   ]
  },
  {
   "cell_type": "code",
   "execution_count": 15,
   "id": "overall-gambling",
   "metadata": {},
   "outputs": [
    {
     "data": {
      "text/plain": [
       "JARDIM CAMBURI                 7717\n",
       "MARIA ORTIZ                    5805\n",
       "RESISTÊNCIA                    4431\n",
       "JARDIM DA PENHA                3877\n",
       "ITARARÉ                        3514\n",
       "                               ... \n",
       "ILHA DO BOI                      35\n",
       "ILHA DO FRADE                    10\n",
       "AEROPORTO                         8\n",
       "ILHAS OCEÂNICAS DE TRINDADE       2\n",
       "PARQUE INDUSTRIAL                 1\n",
       "Name: Neighbourhood, Length: 81, dtype: int64"
      ]
     },
     "execution_count": 15,
     "metadata": {},
     "output_type": "execute_result"
    }
   ],
   "source": [
    "Neighbourhood=mans_df.Neighbourhood.value_counts()\n",
    "Neighbourhood"
   ]
  },
  {
   "cell_type": "markdown",
   "id": "declared-platform",
   "metadata": {},
   "source": [
    "## Visualize"
   ]
  },
  {
   "cell_type": "markdown",
   "id": "contrary-refund",
   "metadata": {},
   "source": [
    "#### Neighbourhood  No-show Appoiments"
   ]
  },
  {
   "cell_type": "code",
   "execution_count": 16,
   "id": "communist-building",
   "metadata": {},
   "outputs": [
    {
     "data": {
      "image/png": "[encoded data removed]",
      "text/plain": [
       "<Figure size 2160x864 with 1 Axes>"
      ]
     },
     "metadata": {
      "needs_background": "light"
     },
     "output_type": "display_data"
    }
   ],
   "source": [
    "plt.figure(figsize=(30,12))\n",
    "fig = sns.countplot(x='Neighbourhood',hue='Show',data=mans_df)\n",
    "fig.set_xticklabels(fig.get_xticklabels(), rotation=90);\n",
    "##plt.savefig('neighbourhood_noshow.png', dpi=300)\n",
    "\n"
   ]
  },
  {
   "cell_type": "code",
   "execution_count": 17,
   "id": "common-miracle",
   "metadata": {
    "scrolled": true
   },
   "outputs": [
    {
     "data": {
      "image/png": "[encoded data removed]",
      "text/plain": [
       "<Figure size 432x288 with 2 Axes>"
      ]
     },
     "metadata": {
      "needs_background": "light"
     },
     "output_type": "display_data"
    }
   ],
   "source": [
    "sns.heatmap(mans_df.corr(), cmap='coolwarm')\n",
    "plt.show()"
   ]
  },
  {
   "cell_type": "markdown",
   "id": "competitive-practice",
   "metadata": {},
   "source": [
    "### Which gender is commited more to their appointment, Male or Female?\n"
   ]
  },
  {
   "cell_type": "markdown",
   "id": "tracked-inflation",
   "metadata": {},
   "source": [
    "#### Hot encoding the Show column > Which means we should drop the rest columns for avoiding misconvinention,  and focusing only on the columns that we're going to use."
   ]
  },
  {
   "cell_type": "code",
   "execution_count": 20,
   "id": "structured-airline",
   "metadata": {},
   "outputs": [],
   "source": [
    "show_encoded = pd.get_dummies(mans_df.drop(columns=['AppointmentID', 'Age', 'Neighbourhood', 'Scholarship', 'Hypertension',\n",
    "                                                     'Diabetes', 'Alcoholism', 'Handicap', 'Number of SMS Reminders', 'ScheduledDay', 'AppointmentDay', 'WeekDay', 'TimeDelta']), \n",
    "                              columns=['Show'])"
   ]
  },
  {
   "cell_type": "code",
   "execution_count": 21,
   "id": "numeric-dancing",
   "metadata": {},
   "outputs": [
    {
     "data": {
      "text/html": [
       "<div>\n",
       "<style scoped>\n",
       "    .dataframe tbody tr th:only-of-type {\n",
       "        vertical-align: middle;\n",
       "    }\n",
       "\n",
       "    .dataframe tbody tr th {\n",
       "        vertical-align: top;\n",
       "    }\n",
       "\n",
       "    .dataframe thead th {\n",
       "        text-align: right;\n",
       "    }\n",
       "</style>\n",
       "<table border=\"1\" class=\"dataframe\">\n",
       "  <thead>\n",
       "    <tr style=\"text-align: right;\">\n",
       "      <th></th>\n",
       "      <th>Gender</th>\n",
       "      <th>Show_No</th>\n",
       "      <th>Show_Yes</th>\n",
       "    </tr>\n",
       "    <tr>\n",
       "      <th>PatientId</th>\n",
       "      <th></th>\n",
       "      <th></th>\n",
       "      <th></th>\n",
       "    </tr>\n",
       "  </thead>\n",
       "  <tbody>\n",
       "    <tr>\n",
       "      <th>2.987250e+13</th>\n",
       "      <td>F</td>\n",
       "      <td>1</td>\n",
       "      <td>0</td>\n",
       "    </tr>\n",
       "    <tr>\n",
       "      <th>5.589978e+14</th>\n",
       "      <td>M</td>\n",
       "      <td>1</td>\n",
       "      <td>0</td>\n",
       "    </tr>\n",
       "    <tr>\n",
       "      <th>4.262962e+12</th>\n",
       "      <td>F</td>\n",
       "      <td>1</td>\n",
       "      <td>0</td>\n",
       "    </tr>\n",
       "    <tr>\n",
       "      <th>8.679512e+11</th>\n",
       "      <td>F</td>\n",
       "      <td>1</td>\n",
       "      <td>0</td>\n",
       "    </tr>\n",
       "    <tr>\n",
       "      <th>8.841186e+12</th>\n",
       "      <td>F</td>\n",
       "      <td>1</td>\n",
       "      <td>0</td>\n",
       "    </tr>\n",
       "    <tr>\n",
       "      <th>...</th>\n",
       "      <td>...</td>\n",
       "      <td>...</td>\n",
       "      <td>...</td>\n",
       "    </tr>\n",
       "    <tr>\n",
       "      <th>2.572134e+12</th>\n",
       "      <td>F</td>\n",
       "      <td>1</td>\n",
       "      <td>0</td>\n",
       "    </tr>\n",
       "    <tr>\n",
       "      <th>3.596266e+12</th>\n",
       "      <td>F</td>\n",
       "      <td>1</td>\n",
       "      <td>0</td>\n",
       "    </tr>\n",
       "    <tr>\n",
       "      <th>1.557663e+13</th>\n",
       "      <td>F</td>\n",
       "      <td>1</td>\n",
       "      <td>0</td>\n",
       "    </tr>\n",
       "    <tr>\n",
       "      <th>9.213493e+13</th>\n",
       "      <td>F</td>\n",
       "      <td>1</td>\n",
       "      <td>0</td>\n",
       "    </tr>\n",
       "    <tr>\n",
       "      <th>3.775115e+14</th>\n",
       "      <td>F</td>\n",
       "      <td>1</td>\n",
       "      <td>0</td>\n",
       "    </tr>\n",
       "  </tbody>\n",
       "</table>\n",
       "<p>110526 rows × 3 columns</p>\n",
       "</div>"
      ],
      "text/plain": [
       "             Gender  Show_No  Show_Yes\n",
       "PatientId                             \n",
       "2.987250e+13      F        1         0\n",
       "5.589978e+14      M        1         0\n",
       "4.262962e+12      F        1         0\n",
       "8.679512e+11      F        1         0\n",
       "8.841186e+12      F        1         0\n",
       "...             ...      ...       ...\n",
       "2.572134e+12      F        1         0\n",
       "3.596266e+12      F        1         0\n",
       "1.557663e+13      F        1         0\n",
       "9.213493e+13      F        1         0\n",
       "3.775115e+14      F        1         0\n",
       "\n",
       "[110526 rows x 3 columns]"
      ]
     },
     "execution_count": 21,
     "metadata": {},
     "output_type": "execute_result"
    }
   ],
   "source": [
    "show_encoded"
   ]
  },
  {
   "cell_type": "code",
   "execution_count": 22,
   "id": "neutral-registration",
   "metadata": {},
   "outputs": [
    {
     "data": {
      "text/html": [
       "<div>\n",
       "<style scoped>\n",
       "    .dataframe tbody tr th:only-of-type {\n",
       "        vertical-align: middle;\n",
       "    }\n",
       "\n",
       "    .dataframe tbody tr th {\n",
       "        vertical-align: top;\n",
       "    }\n",
       "\n",
       "    .dataframe thead th {\n",
       "        text-align: right;\n",
       "    }\n",
       "</style>\n",
       "<table border=\"1\" class=\"dataframe\">\n",
       "  <thead>\n",
       "    <tr style=\"text-align: right;\">\n",
       "      <th></th>\n",
       "      <th>Show_No</th>\n",
       "      <th>Show_Yes</th>\n",
       "    </tr>\n",
       "    <tr>\n",
       "      <th>Gender</th>\n",
       "      <th></th>\n",
       "      <th></th>\n",
       "    </tr>\n",
       "  </thead>\n",
       "  <tbody>\n",
       "    <tr>\n",
       "      <th>F</th>\n",
       "      <td>57245.0</td>\n",
       "      <td>14594.0</td>\n",
       "    </tr>\n",
       "    <tr>\n",
       "      <th>M</th>\n",
       "      <td>30962.0</td>\n",
       "      <td>7725.0</td>\n",
       "    </tr>\n",
       "  </tbody>\n",
       "</table>\n",
       "</div>"
      ],
      "text/plain": [
       "        Show_No  Show_Yes\n",
       "Gender                   \n",
       "F       57245.0   14594.0\n",
       "M       30962.0    7725.0"
      ]
     },
     "execution_count": 22,
     "metadata": {},
     "output_type": "execute_result"
    }
   ],
   "source": [
    "show_encoded.groupby('Gender').sum()"
   ]
  },
  {
   "cell_type": "markdown",
   "id": "light-power",
   "metadata": {},
   "source": [
    "### Perfect. Let's move on and transpose the dataframe for somoother dealing."
   ]
  },
  {
   "cell_type": "code",
   "execution_count": 23,
   "id": "hispanic-distance",
   "metadata": {},
   "outputs": [
    {
     "data": {
      "text/html": [
       "<div>\n",
       "<style scoped>\n",
       "    .dataframe tbody tr th:only-of-type {\n",
       "        vertical-align: middle;\n",
       "    }\n",
       "\n",
       "    .dataframe tbody tr th {\n",
       "        vertical-align: top;\n",
       "    }\n",
       "\n",
       "    .dataframe thead th {\n",
       "        text-align: right;\n",
       "    }\n",
       "</style>\n",
       "<table border=\"1\" class=\"dataframe\">\n",
       "  <thead>\n",
       "    <tr style=\"text-align: right;\">\n",
       "      <th>Gender</th>\n",
       "      <th>F</th>\n",
       "      <th>M</th>\n",
       "    </tr>\n",
       "  </thead>\n",
       "  <tbody>\n",
       "    <tr>\n",
       "      <th>Show_No</th>\n",
       "      <td>57245.0</td>\n",
       "      <td>30962.0</td>\n",
       "    </tr>\n",
       "    <tr>\n",
       "      <th>Show_Yes</th>\n",
       "      <td>14594.0</td>\n",
       "      <td>7725.0</td>\n",
       "    </tr>\n",
       "  </tbody>\n",
       "</table>\n",
       "</div>"
      ],
      "text/plain": [
       "Gender          F        M\n",
       "Show_No   57245.0  30962.0\n",
       "Show_Yes  14594.0   7725.0"
      ]
     },
     "execution_count": 23,
     "metadata": {},
     "output_type": "execute_result"
    }
   ],
   "source": [
    "show_encoded.groupby('Gender').sum().T"
   ]
  },
  {
   "cell_type": "markdown",
   "id": "alpha-federal",
   "metadata": {},
   "source": [
    "####  Creating 2 pandas series for each Male and Female, and sorting the values as well."
   ]
  },
  {
   "cell_type": "code",
   "execution_count": 24,
   "id": "fabulous-fellow",
   "metadata": {},
   "outputs": [
    {
     "data": {
      "image/png": "[encoded data removed]",
      "text/plain": [
       "<Figure size 1080x504 with 2 Axes>"
      ]
     },
     "metadata": {},
     "output_type": "display_data"
    }
   ],
   "source": [
    "show_percent_f = show_encoded.groupby('Gender').sum().T['F'].sort_values(ascending=False)\n",
    "show_percent_m = show_encoded.groupby('Gender').sum().T['M'].sort_values(ascending=False)\n",
    "\n",
    "sizes_f = list(show_percent_f)\n",
    "sizes_m = list(show_percent_m)\n",
    "\n",
    "# Changing the labels of the chart\n",
    "labels = ['Shown', \"Didn't Shown\"]\n",
    "colors = ['lightskyblue', 'lightcoral']\n",
    "explode = (0.1, 0)  # explode 1st slice\n",
    "\n",
    "f = plt.figure(figsize=(15, 7))\n",
    "\n",
    "ax1 = f.add_subplot(1, 2, 1)\n",
    "ax2 = f.add_subplot(1, 2, 2)\n",
    "\n",
    "ax1.pie(sizes_f, labels=labels, colors=colors, explode=explode,\n",
    "        autopct='%1.1f%%', shadow=True, startangle=140)\n",
    "ax1.set_title(\"Percent of Females who shown & didn't show for appointments\");\n",
    "ax1.set_ylabel(\"Female Percentage\")\n",
    "\n",
    "\n",
    "ax2.pie(sizes_m, labels=labels, colors=colors, explode=explode,\n",
    "        autopct='%1.1f%%', shadow=True, startangle=140)\n",
    "ax2.set_title(\"Percent of Males who shown & didn't show for appointments\")\n",
    "ax2.set_ylabel(\"Male Percentage\");\n",
    "plt.savefig('noshow_bygender.png', dpi=300)\n"
   ]
  },
  {
   "cell_type": "markdown",
   "id": "faced-prophet",
   "metadata": {},
   "source": [
    "### Does having a scholarship explains the problem of not showing up? "
   ]
  },
  {
   "cell_type": "code",
   "execution_count": 25,
   "id": "written-chicago",
   "metadata": {},
   "outputs": [
    {
     "data": {
      "image/png": "[encoded data removed]",
      "text/plain": [
       "<Figure size 432x288 with 1 Axes>"
      ]
     },
     "metadata": {
      "needs_background": "light"
     },
     "output_type": "display_data"
    },
    {
     "data": {
      "text/plain": [
       "<Figure size 432x288 with 0 Axes>"
      ]
     },
     "metadata": {},
     "output_type": "display_data"
    }
   ],
   "source": [
    "# printing Number of showing up vs not showing up in case of having a scholarship or not\n",
    "\n",
    "ax = sns.countplot(x=mans_df.Scholarship, hue=mans_df.Show, data=mans_df)\n",
    "ax.set_title(\"Show/NoShow to Scholarship\", size='16')\n",
    "x_ticks_labels=['No Scholarship', 'Scholarship']\n",
    "ax.set_xticklabels(x_ticks_labels)\n",
    "plt.show()\n",
    "plt.savefig('noshow_scholarship.png')"
   ]
  },
  {
   "cell_type": "code",
   "execution_count": 26,
   "id": "dutch-courtesy",
   "metadata": {},
   "outputs": [
    {
     "data": {
      "text/plain": [
       "<Figure size 432x288 with 0 Axes>"
      ]
     },
     "metadata": {},
     "output_type": "display_data"
    },
    {
     "data": {
      "image/png": "[encoded data removed]",
      "text/plain": [
       "<Figure size 1440x720 with 4 Axes>"
      ]
     },
     "metadata": {
      "needs_background": "light"
     },
     "output_type": "display_data"
    }
   ],
   "source": [
    "plt.figure(1)\n",
    "plt.figure(figsize = (15,10))\n",
    "iter_cols = ['Handicap','Alcoholism', 'Hypertension', 'Diabetes']\n",
    "colour = ['c', 'g', 'b', 'r']\n",
    "i = 0\n",
    "for col in iter_cols:    \n",
    "    plt.subplot(int(str(22)+str((iter_cols.index(col)+1))))\n",
    "    mans_df[col].value_counts(normalize=True).plot.bar(figsize=(20,10), fontsize = 15.0, color = colour[i])\n",
    "    plt.title(col, fontweight=\"bold\", fontsize = 22.0)\n",
    "    plt.ylabel('Count %', fontsize = 20.0)\n",
    "    i = i +1\n",
    "##plt.savefig('ordinalfeat5.png', dpi=300)"
   ]
  },
  {
   "cell_type": "code",
   "execution_count": 33,
   "id": "organic-update",
   "metadata": {},
   "outputs": [
    {
     "data": {
      "text/plain": [
       "<Figure size 432x288 with 0 Axes>"
      ]
     },
     "metadata": {},
     "output_type": "display_data"
    },
    {
     "data": {
      "image/png": "[encoded data removed]",
      "text/plain": [
       "<Figure size 1440x432 with 2 Axes>"
      ]
     },
     "metadata": {
      "needs_background": "light"
     },
     "output_type": "display_data"
    }
   ],
   "source": [
    "plt.figure(1)\n",
    "plt.figure(figsize = (15,10))\n",
    "iter_cols = ['Number of SMS Reminders', 'Scholarship']\n",
    "\n",
    "colour = ['g', 'b', 'y']\n",
    "i = 0\n",
    "for col in iter_cols:    \n",
    "    plt.subplot(int(str(13)+str((iter_cols.index(col)+1))))\n",
    "    mans_df[col].value_counts(normalize=True).plot.bar(figsize=(20,6), fontsize = 15.0, color = colour[i])\n",
    "    plt.title(col, fontweight=\"bold\", fontsize = 22.0)\n",
    "    plt.ylabel('Count %', fontsize = 20.0)\n",
    "    i = i+1"
   ]
  },
  {
   "cell_type": "code",
   "execution_count": 35,
   "id": "minimal-netscape",
   "metadata": {},
   "outputs": [
    {
     "data": {
      "text/plain": [
       "40     15960\n",
       "60     15628\n",
       "20     15342\n",
       "50     14012\n",
       "30     13026\n",
       "0      11731\n",
       "10     11526\n",
       "70      7365\n",
       "80      4776\n",
       "90      1090\n",
       "100       65\n",
       "120        5\n",
       "Name: Age, dtype: int64"
      ]
     },
     "execution_count": 35,
     "metadata": {},
     "output_type": "execute_result"
    }
   ],
   "source": [
    "mans_df['Age'] = [round(a,-1) for a in mans_df['Age']]  # this trick makes age easier as I divided them into segments to make \n",
    "                                                #it easier visualizing\n",
    "mans_df['Age'].value_counts()"
   ]
  },
  {
   "cell_type": "code",
   "execution_count": 40,
   "id": "public-nashville",
   "metadata": {},
   "outputs": [
    {
     "data": {
      "image/png": "[encoded data removed]",
      "text/plain": [
       "<Figure size 1440x360 with 1 Axes>"
      ]
     },
     "metadata": {
      "needs_background": "light"
     },
     "output_type": "display_data"
    }
   ],
   "source": [
    "plt.figure(figsize=(20,5))\n",
    "sns.countplot(x=mans_df['Age'], hue=mans_df['Show'])\n",
    "plt.xticks(rotation=90);\n",
    "plt.savefig('ordinalfeat7.png', dpi=300)\n"
   ]
  },
  {
   "cell_type": "code",
   "execution_count": 42,
   "id": "bronze-bacteria",
   "metadata": {},
   "outputs": [
    {
     "data": {
      "image/png": "[encoded data removed]",
      "text/plain": [
       "<Figure size 432x288 with 1 Axes>"
      ]
     },
     "metadata": {
      "needs_background": "light"
     },
     "output_type": "display_data"
    }
   ],
   "source": [
    "sns.countplot(x=mans_df['Show'], hue=mans_df['Gender']);\n",
    "plt.title('Male vs Female attendace');"
   ]
  },
  {
   "cell_type": "code",
   "execution_count": null,
   "id": "speaking-necklace",
   "metadata": {},
   "outputs": [],
   "source": []
  }
 ],
 "metadata": {
  "kernelspec": {
   "display_name": "Python 3",
   "language": "python",
   "name": "python3"
  },
  "language_info": {
   "codemirror_mode": {
    "name": "ipython",
    "version": 3
   },
   "file_extension": ".py",
   "mimetype": "text/x-python",
   "name": "python",
   "nbconvert_exporter": "python",
   "pygments_lexer": "ipython3",
   "version": "3.7.9"
  }
 },
 "nbformat": 4,
 "nbformat_minor": 5
}
